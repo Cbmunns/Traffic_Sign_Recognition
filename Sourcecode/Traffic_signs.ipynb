{
  "nbformat": 4,
  "nbformat_minor": 0,
  "metadata": {
    "colab": {
      "name": "Traffic_signs.ipynb",
      "provenance": [],
      "collapsed_sections": []
    },
    "kernelspec": {
      "name": "python3",
      "display_name": "Python 3"
    },
    "language_info": {
      "name": "python"
    },
    "accelerator": "GPU"
  },
  "cells": [
    {
      "cell_type": "code",
      "metadata": {
        "colab": {
          "base_uri": "https://localhost:8080/",
          "height": 182
        },
        "id": "RageV7kyxoL1",
        "outputId": "b6238d1e-70b8-4fff-98e4-8b535256f7f0"
      },
      "source": [
        "url = github.com/Cbmunns/Traffic_Sign_Recognition/blob/master/sign_data.zip\n",
        "\n"
      ],
      "execution_count": 3,
      "outputs": [
        {
          "output_type": "error",
          "ename": "NameError",
          "evalue": "ignored",
          "traceback": [
            "\u001b[0;31m---------------------------------------------------------------------------\u001b[0m",
            "\u001b[0;31mNameError\u001b[0m                                 Traceback (most recent call last)",
            "\u001b[0;32m<ipython-input-3-8db955c82eff>\u001b[0m in \u001b[0;36m<module>\u001b[0;34m()\u001b[0m\n\u001b[0;32m----> 1\u001b[0;31m \u001b[0murl\u001b[0m \u001b[0;34m=\u001b[0m \u001b[0mgithub\u001b[0m\u001b[0;34m.\u001b[0m\u001b[0mcom\u001b[0m\u001b[0;34m/\u001b[0m\u001b[0mCbmunns\u001b[0m\u001b[0;34m/\u001b[0m\u001b[0mTraffic_Sign_Recognition\u001b[0m\u001b[0;34m/\u001b[0m\u001b[0mblob\u001b[0m\u001b[0;34m/\u001b[0m\u001b[0mmaster\u001b[0m\u001b[0;34m/\u001b[0m\u001b[0msign_data\u001b[0m\u001b[0;34m.\u001b[0m\u001b[0mzip\u001b[0m\u001b[0;34m\u001b[0m\u001b[0;34m\u001b[0m\u001b[0m\n\u001b[0m\u001b[1;32m      2\u001b[0m \u001b[0;34m\u001b[0m\u001b[0m\n",
            "\u001b[0;31mNameError\u001b[0m: name 'github' is not defined"
          ]
        }
      ]
    },
    {
      "cell_type": "markdown",
      "metadata": {
        "id": "ch1h3YB1EHdU"
      },
      "source": [
        "Done to unzip large data set\n",
        "Please rename the zipped data file to sign_data\n"
      ]
    },
    {
      "cell_type": "code",
      "metadata": {
        "id": "AcYegWpNDLIt"
      },
      "source": [
        "import zipfile\n",
        "\n",
        "!unzip url"
      ],
      "execution_count": null,
      "outputs": []
    },
    {
      "cell_type": "markdown",
      "metadata": {
        "id": "8Q4NAM_5EMGe"
      },
      "source": [
        "Validates the data"
      ]
    },
    {
      "cell_type": "code",
      "metadata": {
        "id": "g9KLDylgDwSa"
      },
      "source": [
        "import glob\n",
        "\n",
        "File_paths = glob.glob('/content/sign_data')"
      ],
      "execution_count": null,
      "outputs": []
    },
    {
      "cell_type": "code",
      "metadata": {
        "id": "E7cThFRb7kD5"
      },
      "source": [
        "import numpy as np \n",
        "import pandas as pd \n",
        "import matplotlib.pyplot as plt\n",
        "import cv2\n",
        "import tensorflow as tf\n",
        "from PIL import Image\n",
        "import os, sys\n",
        "from sklearn.model_selection import train_test_split\n",
        "from keras.utils import to_categorical\n",
        "from keras.models import Sequential, load_model\n",
        "from keras.layers import Conv2D, MaxPool2D, Dense, Flatten, Dropout"
      ],
      "execution_count": null,
      "outputs": []
    },
    {
      "cell_type": "code",
      "metadata": {
        "id": "m-GaRsvJ-RVe",
        "colab": {
          "base_uri": "https://localhost:8080/"
        },
        "outputId": "c748f2d3-e59f-46b1-cf23-e38ba5b91606"
      },
      "source": [
        "data = []\n",
        "labels = []\n",
        "classes = 43\n",
        "os.chdir(\"/content/sign_data\")\n",
        "cur_path = os.getcwd()\n",
        "print(cur_path)"
      ],
      "execution_count": null,
      "outputs": [
        {
          "output_type": "stream",
          "text": [
            "/content/sign_data\n"
          ],
          "name": "stdout"
        }
      ]
    },
    {
      "cell_type": "code",
      "metadata": {
        "id": "PySBdfgm-TpO",
        "colab": {
          "base_uri": "https://localhost:8080/"
        },
        "outputId": "8bf1970b-11d5-49c1-da65-50d460f9ac00"
      },
      "source": [
        "#Retrieving the images and their labels \n",
        "for i in range(classes):\n",
        "    path = os.path.join(cur_path,'train', str(i))\n",
        "    print(path)\n",
        "    images = os.listdir(path)\n",
        "    #print(images)\n",
        "    for a in images:\n",
        "        try:\n",
        "            image = Image.open(path + '/'+ a)\n",
        "            image = image.resize((30,30))\n",
        "            image = np.array(image)\n",
        "            #sim = Image.fromarray(image)\n",
        "            data.append(image)\n",
        "            labels.append(i)\n",
        "        except:\n",
        "            print(\"Error loading image\")\n"
      ],
      "execution_count": null,
      "outputs": [
        {
          "output_type": "stream",
          "text": [
            "/content/sign_data/train/0\n",
            "/content/sign_data/train/1\n",
            "/content/sign_data/train/2\n",
            "/content/sign_data/train/3\n",
            "/content/sign_data/train/4\n",
            "/content/sign_data/train/5\n",
            "/content/sign_data/train/6\n",
            "/content/sign_data/train/7\n",
            "/content/sign_data/train/8\n",
            "/content/sign_data/train/9\n",
            "/content/sign_data/train/10\n",
            "/content/sign_data/train/11\n",
            "/content/sign_data/train/12\n",
            "/content/sign_data/train/13\n",
            "/content/sign_data/train/14\n",
            "/content/sign_data/train/15\n",
            "/content/sign_data/train/16\n",
            "/content/sign_data/train/17\n",
            "/content/sign_data/train/18\n",
            "/content/sign_data/train/19\n",
            "/content/sign_data/train/20\n",
            "/content/sign_data/train/21\n",
            "/content/sign_data/train/22\n",
            "/content/sign_data/train/23\n",
            "/content/sign_data/train/24\n",
            "/content/sign_data/train/25\n",
            "/content/sign_data/train/26\n",
            "/content/sign_data/train/27\n",
            "/content/sign_data/train/28\n",
            "/content/sign_data/train/29\n",
            "/content/sign_data/train/30\n",
            "/content/sign_data/train/31\n",
            "/content/sign_data/train/32\n",
            "/content/sign_data/train/33\n",
            "/content/sign_data/train/34\n",
            "/content/sign_data/train/35\n",
            "/content/sign_data/train/36\n",
            "/content/sign_data/train/37\n",
            "/content/sign_data/train/38\n",
            "/content/sign_data/train/39\n",
            "/content/sign_data/train/40\n",
            "/content/sign_data/train/41\n",
            "/content/sign_data/train/42\n"
          ],
          "name": "stdout"
        }
      ]
    },
    {
      "cell_type": "code",
      "metadata": {
        "id": "ZbVdBMfS-X1q"
      },
      "source": [
        "#Converting lists into numpy arrays\n",
        "data = np.array(data)\n",
        "labels = np.array(labels)"
      ],
      "execution_count": null,
      "outputs": []
    },
    {
      "cell_type": "code",
      "metadata": {
        "id": "-3aDzVxA-a6n",
        "colab": {
          "base_uri": "https://localhost:8080/"
        },
        "outputId": "618870ed-8840-4d3d-f363-48066c2f4dd8"
      },
      "source": [
        "print(data.shape, labels.shape)\n",
        "#Splitting training and testing dataset\n",
        "X_train, X_test, y_train, y_test = train_test_split(data, labels, test_size=0.2, random_state=42)"
      ],
      "execution_count": null,
      "outputs": [
        {
          "output_type": "stream",
          "text": [
            "(39209, 30, 30, 3) (39209,)\n"
          ],
          "name": "stdout"
        }
      ]
    },
    {
      "cell_type": "code",
      "metadata": {
        "id": "KRRma2HZ-a5x",
        "colab": {
          "base_uri": "https://localhost:8080/"
        },
        "outputId": "1afdee63-fff7-4e0b-c493-6b4a104cf4d1"
      },
      "source": [
        "print(X_train.shape, X_test.shape, y_train.shape, y_test.shape)"
      ],
      "execution_count": null,
      "outputs": [
        {
          "output_type": "stream",
          "text": [
            "(31367, 30, 30, 3) (7842, 30, 30, 3) (31367,) (7842,)\n"
          ],
          "name": "stdout"
        }
      ]
    },
    {
      "cell_type": "code",
      "metadata": {
        "id": "neCSOxPC-ca7"
      },
      "source": [
        "#Converting the labels into one hot encoding\n",
        "y_train = to_categorical(y_train, 43)\n",
        "y_test = to_categorical(y_test, 43)"
      ],
      "execution_count": null,
      "outputs": []
    },
    {
      "cell_type": "code",
      "metadata": {
        "colab": {
          "base_uri": "https://localhost:8080/"
        },
        "id": "zbFu3NJrNrHR",
        "outputId": "54982eb7-627f-4fb8-ec24-45c3e4b9b556"
      },
      "source": [
        "\n",
        "physical_devices = tf.config.experimental.list_physical_devices('GPU')\n",
        "print(\"Num GPUS Available: \", len(physical_devices))\n",
        "tf.config.experimental.set_memory_growth(physical_devices[0], True)\n",
        "\n",
        "device_name = tf.test.gpu_device_name()\n",
        "if device_name != '/device:GPU:0':\n",
        "  raise SystemError('GPU device not found')\n",
        "print('Found GPU at: {}'.format(device_name))"
      ],
      "execution_count": null,
      "outputs": [
        {
          "output_type": "stream",
          "text": [
            "Num GPUS Available:  1\n",
            "Found GPU at: /device:GPU:0\n"
          ],
          "name": "stdout"
        }
      ]
    },
    {
      "cell_type": "code",
      "metadata": {
        "id": "j3scfYDF-cUo",
        "colab": {
          "base_uri": "https://localhost:8080/"
        },
        "outputId": "11187555-907b-426c-9fec-b5e3be0acf22"
      },
      "source": [
        "with tf.device('/gpu:0'): \n",
        "  #Building the model\n",
        "  model = Sequential()\n",
        "  model.add(Conv2D(filters=32, kernel_size=(5,5), activation='relu', input_shape=X_train.shape[1:]))\n",
        "  model.add(Conv2D(filters=32, kernel_size=(5,5), activation='relu'))\n",
        "  model.add(MaxPool2D(pool_size=(2, 2)))\n",
        "  model.add(Dropout(rate=0.25))\n",
        "  model.add(Conv2D(filters=64, kernel_size=(3, 3), activation='relu'))\n",
        "  model.add(Conv2D(filters=64, kernel_size=(3, 3), activation='relu'))\n",
        "  model.add(MaxPool2D(pool_size=(2, 2)))\n",
        "  model.add(Dropout(rate=0.25))\n",
        "  model.add(Flatten())\n",
        "  model.add(Dense(256, activation='relu'))\n",
        "  model.add(Dropout(rate=0.5))\n",
        "  model.add(Dense(43, activation='softmax'))\n",
        "\n",
        "  #Compilation of the model\n",
        "  model.compile(loss='categorical_crossentropy', optimizer='adam', metrics=['accuracy'])\n",
        "\n",
        "  epochs = 15\n",
        "  history = model.fit(X_train, y_train, batch_size=32, epochs=epochs, validation_data=(X_test, y_test))\n",
        "  model.save(\"my_model.h5\")"
      ],
      "execution_count": null,
      "outputs": [
        {
          "output_type": "stream",
          "text": [
            "Epoch 1/15\n",
            "981/981 [==============================] - 9s 8ms/step - loss: 3.1492 - accuracy: 0.3110 - val_loss: 0.6643 - val_accuracy: 0.8284\n",
            "Epoch 2/15\n",
            "981/981 [==============================] - 8s 8ms/step - loss: 0.8354 - accuracy: 0.7596 - val_loss: 0.2969 - val_accuracy: 0.9195\n",
            "Epoch 3/15\n",
            "981/981 [==============================] - 8s 8ms/step - loss: 0.5219 - accuracy: 0.8498 - val_loss: 0.1595 - val_accuracy: 0.9519\n",
            "Epoch 4/15\n",
            "981/981 [==============================] - 8s 8ms/step - loss: 0.3868 - accuracy: 0.8895 - val_loss: 0.2033 - val_accuracy: 0.9440\n",
            "Epoch 5/15\n",
            "981/981 [==============================] - 8s 8ms/step - loss: 0.3276 - accuracy: 0.9087 - val_loss: 0.0928 - val_accuracy: 0.9728\n",
            "Epoch 6/15\n",
            "981/981 [==============================] - 8s 8ms/step - loss: 0.2619 - accuracy: 0.9251 - val_loss: 0.0835 - val_accuracy: 0.9754\n",
            "Epoch 7/15\n",
            "981/981 [==============================] - 8s 8ms/step - loss: 0.2494 - accuracy: 0.9319 - val_loss: 0.0700 - val_accuracy: 0.9809\n",
            "Epoch 8/15\n",
            "981/981 [==============================] - 8s 8ms/step - loss: 0.2047 - accuracy: 0.9429 - val_loss: 0.0428 - val_accuracy: 0.9872\n",
            "Epoch 9/15\n",
            "981/981 [==============================] - 8s 8ms/step - loss: 0.2063 - accuracy: 0.9428 - val_loss: 0.0407 - val_accuracy: 0.9889\n",
            "Epoch 10/15\n",
            "981/981 [==============================] - 8s 8ms/step - loss: 0.2232 - accuracy: 0.9404 - val_loss: 0.0733 - val_accuracy: 0.9800\n",
            "Epoch 11/15\n",
            "981/981 [==============================] - 8s 8ms/step - loss: 0.2396 - accuracy: 0.9383 - val_loss: 0.0379 - val_accuracy: 0.9895\n",
            "Epoch 12/15\n",
            "981/981 [==============================] - 8s 8ms/step - loss: 0.2028 - accuracy: 0.9483 - val_loss: 0.0896 - val_accuracy: 0.9732\n",
            "Epoch 13/15\n",
            "981/981 [==============================] - 8s 8ms/step - loss: 0.2356 - accuracy: 0.9388 - val_loss: 0.0506 - val_accuracy: 0.9860\n",
            "Epoch 14/15\n",
            "981/981 [==============================] - 8s 8ms/step - loss: 0.2024 - accuracy: 0.9476 - val_loss: 0.0274 - val_accuracy: 0.9926\n",
            "Epoch 15/15\n",
            "981/981 [==============================] - 8s 8ms/step - loss: 0.1851 - accuracy: 0.9514 - val_loss: 0.0515 - val_accuracy: 0.9839\n"
          ],
          "name": "stdout"
        }
      ]
    },
    {
      "cell_type": "code",
      "metadata": {
        "id": "FY6j9MvS-cDO",
        "colab": {
          "base_uri": "https://localhost:8080/",
          "height": 294
        },
        "outputId": "3330e18f-83f5-493a-b64f-159945148a74"
      },
      "source": [
        "#plotting graphs for accuracy \n",
        "plt.figure(0)\n",
        "plt.plot(history.history['accuracy'], label='training accuracy')\n",
        "plt.plot(history.history['val_accuracy'], label='val accuracy')\n",
        "plt.title('Accuracy')\n",
        "plt.xlabel('epochs')\n",
        "plt.ylabel('accuracy')\n",
        "plt.legend()\n",
        "plt.show()"
      ],
      "execution_count": null,
      "outputs": [
        {
          "output_type": "display_data",
          "data": {
            "image/png": "[encoded data removed]",
            "text/plain": [
              "<Figure size 432x288 with 1 Axes>"
            ]
          },
          "metadata": {
            "tags": [],
            "needs_background": "light"
          }
        }
      ]
    },
    {
      "cell_type": "code",
      "metadata": {
        "id": "60cbU66D-cCh",
        "colab": {
          "base_uri": "https://localhost:8080/",
          "height": 294
        },
        "outputId": "9018861f-0b2a-4a7e-d240-9a15259b9456"
      },
      "source": [
        "plt.figure(1)\n",
        "plt.plot(history.history['loss'], label='training loss')\n",
        "plt.plot(history.history['val_loss'], label='val loss')\n",
        "plt.title('Loss')\n",
        "plt.xlabel('epochs')\n",
        "plt.ylabel('loss')\n",
        "plt.legend()\n",
        "plt.show()"
      ],
      "execution_count": null,
      "outputs": [
        {
          "output_type": "display_data",
          "data": {
            "image/png": "[encoded data removed]",
            "text/plain": [
              "<Figure size 432x288 with 1 Axes>"
            ]
          },
          "metadata": {
            "tags": [],
            "needs_background": "light"
          }
        }
      ]
    },
    {
      "cell_type": "code",
      "metadata": {
        "id": "9KGsFx4r-b0L"
      },
      "source": [
        "#testing accuracy on test dataset\n",
        "from sklearn.metrics import accuracy_score"
      ],
      "execution_count": null,
      "outputs": []
    },
    {
      "cell_type": "code",
      "metadata": {
        "id": "TN_bViqu-svw",
        "colab": {
          "base_uri": "https://localhost:8080/"
        },
        "outputId": "c3a9fd0e-0d6b-4183-f84b-3a8de1bfcead"
      },
      "source": [
        "y_test = pd.read_csv('Test.csv')\n",
        "print(y_test)\n",
        "labels = y_test[\"ClassId\"].values\n",
        "print(labels)\n",
        "imgs = y_test[\"Path\"].values\n",
        "print(imgs)\n",
        "data=[]\n",
        "for img in imgs:\n",
        "    image = Image.open(img)\n",
        "    \n",
        "    image = image.resize((30,30))\n",
        "    \n",
        "    data.append(np.array(image))\n",
        "X_test=np.array(data)\n",
        "pred = model.predict_classes(X_test)\n",
        "print(pred)"
      ],
      "execution_count": null,
      "outputs": [
        {
          "output_type": "stream",
          "text": [
            "       Width  Height  Roi.X1  Roi.Y1  Roi.X2  Roi.Y2  ClassId            Path\n",
            "0         53      54       6       5      48      49       16  Test/00000.png\n",
            "1         42      45       5       5      36      40        1  Test/00001.png\n",
            "2         48      52       6       6      43      47       38  Test/00002.png\n",
            "3         27      29       5       5      22      24       33  Test/00003.png\n",
            "4         60      57       5       5      55      52       11  Test/00004.png\n",
            "...      ...     ...     ...     ...     ...     ...      ...             ...\n",
            "12625     42      41       5       6      37      36       12  Test/12625.png\n",
            "12626     50      51       6       5      45      46       33  Test/12626.png\n",
            "12627     29      29       6       6      24      24        6  Test/12627.png\n",
            "12628     48      49       5       6      43      44        7  Test/12628.png\n",
            "12629     32      31       6       5      27      26       10  Test/12629.png\n",
            "\n",
            "[12630 rows x 8 columns]\n",
            "[16  1 38 ...  6  7 10]\n",
            "['Test/00000.png' 'Test/00001.png' 'Test/00002.png' ... 'Test/12627.png'\n",
            " 'Test/12628.png' 'Test/12629.png']\n"
          ],
          "name": "stdout"
        },
        {
          "output_type": "stream",
          "text": [
            "/usr/local/lib/python3.7/dist-packages/tensorflow/python/keras/engine/sequential.py:450: UserWarning: `model.predict_classes()` is deprecated and will be removed after 2021-01-01. Please use instead:* `np.argmax(model.predict(x), axis=-1)`,   if your model does multi-class classification   (e.g. if it uses a `softmax` last-layer activation).* `(model.predict(x) > 0.5).astype(\"int32\")`,   if your model does binary classification   (e.g. if it uses a `sigmoid` last-layer activation).\n",
            "  warnings.warn('`model.predict_classes()` is deprecated and '\n"
          ],
          "name": "stderr"
        },
        {
          "output_type": "stream",
          "text": [
            "[16  1 38 ...  5  7 10]\n"
          ],
          "name": "stdout"
        }
      ]
    },
    {
      "cell_type": "code",
      "metadata": {
        "id": "3SCRrmug-vo0",
        "colab": {
          "base_uri": "https://localhost:8080/"
        },
        "outputId": "1fe4852e-3573-44c6-dfbb-ad4cf1a3a519"
      },
      "source": [
        "#Accuracy with the test data\n",
        "from sklearn.metrics import accuracy_score\n",
        "print(accuracy_score(labels, pred))\n"
      ],
      "execution_count": null,
      "outputs": [
        {
          "output_type": "stream",
          "text": [
            "0.9511480601741884\n"
          ],
          "name": "stdout"
        }
      ]
    }
  ]
}